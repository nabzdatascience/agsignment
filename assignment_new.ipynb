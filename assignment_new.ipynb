{
 "cells": [
  {
   "cell_type": "code",
   "execution_count": 6,
   "id": "5dc53b1e",
   "metadata": {},
   "outputs": [
    {
     "name": "stdout",
     "output_type": "stream",
     "text": [
      "Input a value: 9\n",
      "The result is 362880\n"
     ]
    }
   ],
   "source": [
    "x = int(input(\"Input a value: \"))\n",
    "f=1\n",
    "if x < 0:\n",
    "   print(\"Can't be calculated\")\n",
    "elif x == 0:\n",
    "   print(\"Answer is 0\")\n",
    "else:\n",
    "   for i in range(1,x + 1):\n",
    "       f=f*i\n",
    "   print(\"The result is\",f)"
   ]
  },
  {
   "cell_type": "code",
   "execution_count": 7,
   "id": "0f361656",
   "metadata": {},
   "outputs": [
    {
     "name": "stdout",
     "output_type": "stream",
     "text": [
      "Enter an integer number: 2\n",
      "It's a multiplication Table of 2\n",
      "2 X 1 = 2\n",
      "2 X 2 = 4\n",
      "2 X 3 = 6\n",
      "2 X 4 = 8\n",
      "2 X 5 = 10\n",
      "2 X 6 = 12\n",
      "2 X 7 = 14\n",
      "2 X 8 = 16\n",
      "2 X 9 = 18\n",
      "2 X 10 = 20\n"
     ]
    }
   ],
   "source": [
    "z = int(input(\"Enter an integer number: \"))\n",
    "\n",
    "print(\"It's a multiplication Table of\", z)\n",
    "for i in range(1, 11):\n",
    "   print(z,\"X\",i,\"=\",z * i)"
   ]
  },
  {
   "cell_type": "code",
   "execution_count": 9,
   "id": "9fc74067",
   "metadata": {},
   "outputs": [
    {
     "name": "stdout",
     "output_type": "stream",
     "text": [
      "0\n",
      "1\n",
      "1\n",
      "2\n",
      "3\n",
      "5\n",
      "8\n",
      "13\n",
      "21\n",
      "34\n"
     ]
    }
   ],
   "source": [
    "def fib(nos):\n",
    "   if nos <= 1:\n",
    "       return (nos)\n",
    "   else:\n",
    "       return (fib(nos-1) + fib(nos-2))\n",
    "\n",
    "\n",
    "n_of_nos = 10\n",
    "for i in range(n_of_nos):\n",
    "    print(fib(i))"
   ]
  },
  {
   "cell_type": "code",
   "execution_count": 16,
   "id": "ff71761d",
   "metadata": {},
   "outputs": [
    {
     "name": "stdout",
     "output_type": "stream",
     "text": [
      "Take a number from the user: 125\n",
      "Nope!! not an Armstrong number\n"
     ]
    }
   ],
   "source": [
    "x = int(input(\"Take a number from the user: \"))\n",
    "sum = 0\n",
    "temp = x\n",
    "while temp > 0:\n",
    "   digit = temp % 10\n",
    "   sum += digit ** 3\n",
    "   temp //= 10\n",
    "if x == sum:\n",
    "   print(\"Yes!! Armstrong number\")\n",
    "else:\n",
    "   print(\"Nope!! not an Armstrong number\")\n",
    " "
   ]
  },
  {
   "cell_type": "code",
   "execution_count": 22,
   "id": "d60eb302",
   "metadata": {},
   "outputs": [
    {
     "name": "stdout",
     "output_type": "stream",
     "text": [
      "125\n",
      "153\n",
      "216\n",
      "370\n",
      "371\n",
      "407\n",
      "729\n"
     ]
    }
   ],
   "source": [
    "for p in range(100,1000):\n",
    "  temp=p\n",
    "  sum=0\n",
    "  while temp>0:\n",
    "      digit=temp%10\n",
    "      sum=sum+digit**3\n",
    "      temp=temp//10\n",
    "      if sum==p:\n",
    "           print (p)\n"
   ]
  },
  {
   "cell_type": "code",
   "execution_count": 25,
   "id": "b5711d13",
   "metadata": {},
   "outputs": [
    {
     "name": "stdout",
     "output_type": "stream",
     "text": [
      " Enter a number: 5\n",
      "The Sum of Natural Numbers from 1 to 5 =  15\n"
     ]
    }
   ],
   "source": [
    "x = int(input(\" Enter a number: \"))\n",
    "sum = 0\n",
    "\n",
    "for value in range(1, x + 1):\n",
    "    sum = sum + value\n",
    "\n",
    "print(\"The Sum of Natural Numbers from 1 to {0} =  {1}\".format(x, sum))\n"
   ]
  },
  {
   "cell_type": "code",
   "execution_count": null,
   "id": "73011957",
   "metadata": {},
   "outputs": [],
   "source": []
  }
 ],
 "metadata": {
  "kernelspec": {
   "display_name": "Python 3 (ipykernel)",
   "language": "python",
   "name": "python3"
  },
  "language_info": {
   "codemirror_mode": {
    "name": "ipython",
    "version": 3
   },
   "file_extension": ".py",
   "mimetype": "text/x-python",
   "name": "python",
   "nbconvert_exporter": "python",
   "pygments_lexer": "ipython3",
   "version": "3.9.7"
  }
 },
 "nbformat": 4,
 "nbformat_minor": 5
}
